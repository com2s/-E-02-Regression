{
  "nbformat": 4,
  "nbformat_minor": 0,
  "metadata": {
    "colab": {
      "provenance": [],
      "toc_visible": true
    },
    "kernelspec": {
      "name": "python3",
      "display_name": "Python 3"
    },
    "language_info": {
      "name": "python"
    }
  },
  "cells": [
    {
      "cell_type": "markdown",
      "source": [
        "# 목차\n",
        "\n",
        "* 프로젝트 1: 손수 설계하는 선형회귀, 당뇨병 수치를 맞춰보자!\n",
        "\n",
        "* 프로젝트 2: 날씨 좋은 월요일 오후 3시, 자전거 타는 사람은 몇 명?\n",
        "\n",
        "* Referernce\n",
        "\n",
        "* 회고\n",
        "\n",
        "--------------------\n",
        "\n",
        "## **루브릭 평가 기준** \n",
        "\n",
        "1. 프로젝트 1의 회귀모델 예측정확도가 기준 이상 높게 나왔는가?  \n",
        "MSE 손실함수값 3000 이하를 달성\n",
        "\n",
        "2. 프로젝트 2의 회귀모델 예측정확도가 기준 이상 높게 나왔는가?  \n",
        "RMSE 값 150 이하를 달성\n",
        "\n",
        "3. 시각화 요구사항이 정확하게 이루어졌는가?  \n",
        "각 프로젝트 진행 과정에서 요구하고 있는 데이터개수 시각화 및 예측결과 시각화를 모두 진행하였다."
      ],
      "metadata": {
        "id": "ocd5CCD_TopT"
      }
    },
    {
      "cell_type": "markdown",
      "source": [
        "# Diabetes Regression"
      ],
      "metadata": {
        "id": "K9jmZNR1GJgl"
      }
    },
    {
      "cell_type": "code",
      "execution_count": null,
      "metadata": {
        "colab": {
          "base_uri": "https://localhost:8080/"
        },
        "id": "EnbWzXav05vn",
        "outputId": "0222f9c1-d4d3-45c6-a141-2868451d1cba"
      },
      "outputs": [
        {
          "output_type": "stream",
          "name": "stdout",
          "text": [
            "['DESCR', 'data', 'data_filename', 'data_module', 'feature_names', 'frame', 'target', 'target_filename']\n",
            "[[ 0.03807591  0.05068012  0.06169621 ... -0.00259226  0.01990842\n",
            "  -0.01764613]\n",
            " [-0.00188202 -0.04464164 -0.05147406 ... -0.03949338 -0.06832974\n",
            "  -0.09220405]\n",
            " [ 0.08529891  0.05068012  0.04445121 ... -0.00259226  0.00286377\n",
            "  -0.02593034]\n",
            " ...\n",
            " [ 0.04170844  0.05068012 -0.01590626 ... -0.01107952 -0.04687948\n",
            "   0.01549073]\n",
            " [-0.04547248 -0.04464164  0.03906215 ...  0.02655962  0.04452837\n",
            "  -0.02593034]\n",
            " [-0.04547248 -0.04464164 -0.0730303  ... -0.03949338 -0.00421986\n",
            "   0.00306441]]\n",
            "[151.  75. 141. 206. 135.  97. 138.  63. 110. 310.]\n",
            ".. _diabetes_dataset:\n",
            "\n",
            "Diabetes dataset\n",
            "----------------\n",
            "\n",
            "Ten baseline variables, age, sex, body mass index, average blood\n",
            "pressure, and six blood serum measurements were obtained for each of n =\n",
            "442 diabetes patients, as well as the response of interest, a\n",
            "quantitative measure of disease progression one year after baseline.\n",
            "\n",
            "**Data Set Characteristics:**\n",
            "\n",
            "  :Number of Instances: 442\n",
            "\n",
            "  :Number of Attributes: First 10 columns are numeric predictive values\n",
            "\n",
            "  :Target: Column 11 is a quantitative measure of disease progression one year after baseline\n",
            "\n",
            "  :Attribute Information:\n",
            "      - age     age in years\n",
            "      - sex\n",
            "      - bmi     body mass index\n",
            "      - bp      average blood pressure\n",
            "      - s1      tc, total serum cholesterol\n",
            "      - s2      ldl, low-density lipoproteins\n",
            "      - s3      hdl, high-density lipoproteins\n",
            "      - s4      tch, total cholesterol / HDL\n",
            "      - s5      ltg, possibly log of serum triglycerides level\n",
            "      - s6      glu, blood sugar level\n",
            "\n",
            "Note: Each of these 10 feature variables have been mean centered and scaled by the standard deviation times `n_samples` (i.e. the sum of squares of each column totals 1).\n",
            "\n",
            "Source URL:\n",
            "https://www4.stat.ncsu.edu/~boos/var.select/diabetes.html\n",
            "\n",
            "For more information see:\n",
            "Bradley Efron, Trevor Hastie, Iain Johnstone and Robert Tibshirani (2004) \"Least Angle Regression,\" Annals of Statistics (with discussion), 407-499.\n",
            "(https://web.stanford.edu/~hastie/Papers/LARS/LeastAngle_2002.pdf)\n"
          ]
        }
      ],
      "source": [
        "# 필요한 라이브러리 임포팅\n",
        "# 필요한 데이터 가져오기\n",
        "\n",
        "import sklearn\n",
        "from sklearn.model_selection import train_test_split\n",
        "from sklearn.datasets import load_diabetes\n",
        "import seaborn as sns\n",
        "import numpy as np\n",
        "import matplotlib.pyplot as plt\n",
        "\n",
        "diabetes = load_diabetes()\n",
        "print(dir(diabetes))\n",
        "\n",
        "print(diabetes.data)\n",
        "print(diabetes.target[0:10])\n",
        "print(diabetes.DESCR)\n"
      ]
    },
    {
      "cell_type": "markdown",
      "source": [
        "https://scikit-learn.org/stable/modules/generated/sklearn.datasets.load_diabetes.html"
      ],
      "metadata": {
        "id": "BF6akQxgEfvk"
      }
    },
    {
      "cell_type": "code",
      "source": [
        "# 데이터 분류하기\n",
        "\n",
        "df_x = diabetes.data\n",
        "df_y = diabetes.target\n",
        "\n",
        "X = df_x\n",
        "y = df_y\n",
        "\n",
        "X_train, X_test, y_train, y_test = train_test_split(X, y, test_size = 0.2, random_state = 32)\n",
        "\n",
        "print(X_train.shape, y_train.shape)\n",
        "print(X_test.shape, y_test.shape)"
      ],
      "metadata": {
        "colab": {
          "base_uri": "https://localhost:8080/"
        },
        "id": "AcScth1R9cXq",
        "outputId": "43b5bf39-e4c5-4bcf-ee46-b4d6e8163c9e"
      },
      "execution_count": null,
      "outputs": [
        {
          "output_type": "stream",
          "name": "stdout",
          "text": [
            "(353, 10) (353,)\n",
            "(89, 10) (89,)\n"
          ]
        }
      ]
    },
    {
      "cell_type": "markdown",
      "source": [
        "## 모델과 함수들"
      ],
      "metadata": {
        "id": "Dhza7w3HAOft"
      }
    },
    {
      "cell_type": "code",
      "source": [
        "# 데이터 컬럼 수에 맞게 모델함수\n",
        "\n",
        "W = np.random.rand(10)\n",
        "b = np.random.rand()\n",
        "\n",
        "def model(X, W, b):\n",
        "    predictions = 0\n",
        "    for i in range(10):\n",
        "        predictions += X[:, i] * W[i]\n",
        "    predictions += b\n",
        "    return predictions"
      ],
      "metadata": {
        "id": "PWkRtbHN9cVM"
      },
      "execution_count": null,
      "outputs": []
    },
    {
      "cell_type": "code",
      "source": [
        "# 손실함수, MSE\n",
        "\n",
        "def MSE(a, b):\n",
        "    mse = ((a - b) ** 2).mean()  # 두 값의 차이의 제곱의 평균\n",
        "    return mse\n",
        "\n",
        "def loss(X, W, b, y):\n",
        "    predictions = model(X, W, b)\n",
        "    L = MSE(predictions, y)\n",
        "    return L"
      ],
      "metadata": {
        "id": "xSrCgdBh9cS1"
      },
      "execution_count": null,
      "outputs": []
    },
    {
      "cell_type": "code",
      "source": [
        "# 기울기 계산 (편미분)\n",
        "\n",
        "def gradient(X, W, b, y):\n",
        "    # N은 가중치의 개수\n",
        "    N = len(W)\n",
        "    \n",
        "    # y_pred 준비\n",
        "    y_pred = model(X, W, b)\n",
        "    \n",
        "    # 공식에 맞게 gradient 계산\n",
        "    dW = 1/N * 2 * X.T.dot(y_pred - y)\n",
        "        \n",
        "    # b의 gradient 계산\n",
        "    db = 2 * (y_pred - y).mean()\n",
        "    return dW, db"
      ],
      "metadata": {
        "id": "C6QfNoUt9cQR"
      },
      "execution_count": null,
      "outputs": []
    },
    {
      "cell_type": "markdown",
      "source": [
        "## 학습 시작"
      ],
      "metadata": {
        "id": "Er8-7OU9GVYV"
      }
    },
    {
      "cell_type": "code",
      "source": [
        "# 학습률 (하이퍼 파라미터)\n",
        "# 일반적인 값\n",
        "\n",
        "LEARNING_RATE = 0.001"
      ],
      "metadata": {
        "id": "t8qnFp0zAbnt"
      },
      "execution_count": null,
      "outputs": []
    },
    {
      "cell_type": "code",
      "source": [
        "# 손실함수 보기\n",
        "\n",
        "losses = []\n",
        "\n",
        "for i in range(1, 1001):\n",
        "    dW, db = gradient(X_train, W, b, y_train)\n",
        "    W -= LEARNING_RATE * dW\n",
        "    b -= LEARNING_RATE * db\n",
        "    L = loss(X_train, W, b, y_train)\n",
        "    losses.append(L)\n",
        "    if i % 100 == 0:\n",
        "        print('Iteration %d : Loss %0.4f' % (i, L))"
      ],
      "metadata": {
        "colab": {
          "base_uri": "https://localhost:8080/"
        },
        "id": "8xhZPUbBAbmN",
        "outputId": "6f859ac6-aa16-4086-fccf-b0c61540cb94"
      },
      "execution_count": null,
      "outputs": [
        {
          "output_type": "stream",
          "name": "stdout",
          "text": [
            "Iteration 100 : Loss 4781.9451\n",
            "Iteration 200 : Loss 3730.8208\n",
            "Iteration 300 : Loss 3428.2235\n",
            "Iteration 400 : Loss 3265.4753\n",
            "Iteration 500 : Loss 3163.7069\n",
            "Iteration 600 : Loss 3095.3801\n",
            "Iteration 700 : Loss 3047.8326\n",
            "Iteration 800 : Loss 3014.0992\n",
            "Iteration 900 : Loss 2989.8731\n",
            "Iteration 1000 : Loss 2972.3142\n"
          ]
        }
      ]
    },
    {
      "cell_type": "markdown",
      "source": [
        "### 다양한 하이퍼 마라미터 시험"
      ],
      "metadata": {
        "id": "OREGlDiIABJ3"
      }
    },
    {
      "cell_type": "code",
      "source": [
        "# 학습률 하이퍼 마라미터 조정(1)\n",
        "\n",
        "W = np.random.rand(10)\n",
        "b = np.random.rand()\n",
        "\n",
        "LEARNING_RATE = 0.1\n",
        "\n",
        "losses = []\n",
        "\n",
        "for i in range(1, 1001):\n",
        "    dW, db = gradient(X_train, W, b, y_train)\n",
        "    W -= LEARNING_RATE * dW\n",
        "    b -= LEARNING_RATE * db\n",
        "    L = loss(X_train, W, b, y_train)\n",
        "    losses.append(L)\n",
        "    if i % 100 == 0:\n",
        "        print('Iteration %d : Loss %0.4f' % (i, L))"
      ],
      "metadata": {
        "colab": {
          "base_uri": "https://localhost:8080/"
        },
        "id": "B_8XGBC--bwD",
        "outputId": "973ab109-2886-4ad5-e86a-3aab40c3a392"
      },
      "execution_count": null,
      "outputs": [
        {
          "output_type": "stream",
          "name": "stdout",
          "text": [
            "Iteration 100 : Loss 2971.2758\n",
            "Iteration 200 : Loss 2924.3975\n",
            "Iteration 300 : Loss 2920.4751\n",
            "Iteration 400 : Loss 2919.4028\n",
            "Iteration 500 : Loss 2918.6711\n",
            "Iteration 600 : Loss 2918.0152\n",
            "Iteration 700 : Loss 2917.3946\n",
            "Iteration 800 : Loss 2916.8004\n",
            "Iteration 900 : Loss 2916.2291\n",
            "Iteration 1000 : Loss 2915.6784\n"
          ]
        }
      ]
    },
    {
      "cell_type": "code",
      "source": [
        "# 학습률 하이퍼 마라미터 조정(2)\n",
        "\n",
        "W = np.random.rand(10)\n",
        "b = np.random.rand()\n",
        "\n",
        "LEARNING_RATE = 0.9\n",
        "\n",
        "losses = []\n",
        "\n",
        "for i in range(1, 1001):\n",
        "    dW, db = gradient(X_train, W, b, y_train)\n",
        "    W -= LEARNING_RATE * dW\n",
        "    b -= LEARNING_RATE * db\n",
        "    L = loss(X_train, W, b, y_train)\n",
        "    losses.append(L)\n",
        "    if i % 100 == 0:\n",
        "        print('Iteration %d : Loss %0.4f' % (i, L))"
      ],
      "metadata": {
        "colab": {
          "base_uri": "https://localhost:8080/"
        },
        "id": "gm7Rl-fv84Ui",
        "outputId": "a8c3f119-78a2-4c85-dad1-95e644232e13"
      },
      "execution_count": null,
      "outputs": [
        {
          "output_type": "stream",
          "name": "stdout",
          "text": [
            "Iteration 100 : Loss 2916.2200\n",
            "Iteration 200 : Loss 2911.8577\n",
            "Iteration 300 : Loss 2908.5236\n",
            "Iteration 400 : Loss 2905.9425\n",
            "Iteration 500 : Loss 2903.9409\n",
            "Iteration 600 : Loss 2902.3883\n",
            "Iteration 700 : Loss 2901.1841\n",
            "Iteration 800 : Loss 2900.2500\n",
            "Iteration 900 : Loss 2899.5255\n",
            "Iteration 1000 : Loss 2898.9635\n"
          ]
        }
      ]
    },
    {
      "cell_type": "code",
      "source": [
        "# 학습률 하이퍼 마라미터 조정(3)\n",
        "\n",
        "W = np.random.rand(10)\n",
        "b = np.random.rand()\n",
        "\n",
        "LEARNING_RATE = 1\n",
        "\n",
        "losses = []\n",
        "\n",
        "for i in range(1, 1001):\n",
        "    dW, db = gradient(X_train, W, b, y_train)\n",
        "    W -= LEARNING_RATE * dW\n",
        "    b -= LEARNING_RATE * db\n",
        "    L = loss(X_train, W, b, y_train)\n",
        "    losses.append(L)\n",
        "    if i % 100 == 0:\n",
        "        print('Iteration %d : Loss %0.4f' % (i, L))"
      ],
      "metadata": {
        "colab": {
          "base_uri": "https://localhost:8080/"
        },
        "id": "HZ40l2tY9WTG",
        "outputId": "695d9870-ff69-40b2-d51d-f99903e4b381"
      },
      "execution_count": null,
      "outputs": [
        {
          "output_type": "stream",
          "name": "stdout",
          "text": [
            "Iteration 100 : Loss 32950.5308\n",
            "Iteration 200 : Loss 41664.2722\n",
            "Iteration 300 : Loss 52909.9168\n",
            "Iteration 400 : Loss 67421.7451\n",
            "Iteration 500 : Loss 86147.3894\n",
            "Iteration 600 : Loss 110309.6719\n",
            "Iteration 700 : Loss 141486.4548\n",
            "Iteration 800 : Loss 181713.6774\n",
            "Iteration 900 : Loss 233618.3096\n",
            "Iteration 1000 : Loss 300589.9012\n"
          ]
        }
      ]
    },
    {
      "cell_type": "code",
      "source": [
        "# 학습률 하이퍼 마라미터 조정(4)\n",
        "\n",
        "W = np.random.rand(10)\n",
        "b = np.random.rand()\n",
        "\n",
        "LEARNING_RATE = 0.995\n",
        "\n",
        "losses = []\n",
        "\n",
        "for i in range(1, 1001):\n",
        "    dW, db = gradient(X_train, W, b, y_train)\n",
        "    W -= LEARNING_RATE * dW\n",
        "    b -= LEARNING_RATE * db\n",
        "    L = loss(X_train, W, b, y_train)\n",
        "    losses.append(L)\n",
        "    if i % 100 == 0:\n",
        "        print('Iteration %d : Loss %0.4f' % (i, L))"
      ],
      "metadata": {
        "colab": {
          "base_uri": "https://localhost:8080/"
        },
        "id": "B9s2Lb_S9cU2",
        "outputId": "55fcfd7a-b98b-447a-959c-1c9b6493b730"
      },
      "execution_count": null,
      "outputs": [
        {
          "output_type": "stream",
          "name": "stdout",
          "text": [
            "Iteration 100 : Loss 6988.6432\n",
            "Iteration 200 : Loss 3616.0742\n",
            "Iteration 300 : Loss 3029.6596\n",
            "Iteration 400 : Loss 2926.1535\n",
            "Iteration 500 : Loss 2906.7254\n",
            "Iteration 600 : Loss 2902.2209\n",
            "Iteration 700 : Loss 2900.5791\n",
            "Iteration 800 : Loss 2899.6439\n",
            "Iteration 900 : Loss 2898.9904\n",
            "Iteration 1000 : Loss 2898.5061\n"
          ]
        }
      ]
    },
    {
      "cell_type": "markdown",
      "source": [
        "### 학습 결과"
      ],
      "metadata": {
        "id": "s34a0N-qAZxh"
      }
    },
    {
      "cell_type": "code",
      "source": [
        "prediction = model(X_test, W, b)\n",
        "mse = loss(X_test, W, b, y_test)\n",
        "mse"
      ],
      "metadata": {
        "colab": {
          "base_uri": "https://localhost:8080/"
        },
        "id": "uZwCfJV6AbkA",
        "outputId": "bb21f557-ddd3-4491-bc3c-802927cfa6ac"
      },
      "execution_count": null,
      "outputs": [
        {
          "output_type": "execute_result",
          "data": {
            "text/plain": [
              "2786.23347988466"
            ]
          },
          "metadata": {},
          "execution_count": 69
        }
      ]
    },
    {
      "cell_type": "code",
      "source": [
        "# 학습결과\n",
        "\n",
        "W,b"
      ],
      "metadata": {
        "colab": {
          "base_uri": "https://localhost:8080/"
        },
        "id": "Aq436AFoEUWl",
        "outputId": "008810aa-7c61-42f8-d72b-9b966bcd5ace"
      },
      "execution_count": null,
      "outputs": [
        {
          "output_type": "execute_result",
          "data": {
            "text/plain": [
              "(array([  32.82682805, -273.92659251,  503.01184632,  368.82107926,\n",
              "        -628.61409918,  350.92873057,   15.43163825,  135.0488733 ,\n",
              "         672.0235822 ,   80.04649716]), 154.2434538137773)"
            ]
          },
          "metadata": {},
          "execution_count": 70
        }
      ]
    },
    {
      "cell_type": "code",
      "source": [
        "# 테스트 결과\n",
        "\n",
        "prediction = model(X_test, W, b)\n",
        "mse = loss(X_test, W, b, y_test)\n",
        "mse"
      ],
      "metadata": {
        "colab": {
          "base_uri": "https://localhost:8080/"
        },
        "id": "D_efU0bGEUUd",
        "outputId": "11e3a614-9ed4-48fb-a3f2-2a074779da5f"
      },
      "execution_count": null,
      "outputs": [
        {
          "output_type": "execute_result",
          "data": {
            "text/plain": [
              "2786.23347988466"
            ]
          },
          "metadata": {},
          "execution_count": 71
        }
      ]
    },
    {
      "cell_type": "code",
      "source": [
        "# 결과 시각화\n",
        "\n",
        "plt.scatter(X_test[:, 0], y_test, label = \"True\")\n",
        "plt.scatter(X_test[:, 0], prediction, label = \"Pred\")\n",
        "# plt.legend(['y_test', 'prediction'],loc='best') # 범례, loc 없으면 기본값 best\n",
        "plt.legend()\n",
        "plt.show()"
      ],
      "metadata": {
        "colab": {
          "base_uri": "https://localhost:8080/",
          "height": 265
        },
        "id": "XAw5jfHAEUAa",
        "outputId": "a52ddaf3-2bab-4787-cc9f-89921bdcf50f"
      },
      "execution_count": null,
      "outputs": [
        {
          "output_type": "display_data",
          "data": {
            "text/plain": [
              "<Figure size 432x288 with 1 Axes>"
            ],
            "image/png": "[encoded data removed]"
          },
          "metadata": {
            "needs_background": "light"
          }
        }
      ]
    },
    {
      "cell_type": "markdown",
      "source": [
        "## 사이킷런 내장 모델과 비교"
      ],
      "metadata": {
        "id": "NtQ3Xz-LGY3v"
      }
    },
    {
      "cell_type": "code",
      "source": [
        "# 사이킷런과 비교하기\n",
        "# 모델 준비\n",
        "\n",
        "from sklearn.linear_model import LinearRegression\n",
        "\n",
        "model = LinearRegression()"
      ],
      "metadata": {
        "id": "gIEODlyGET-P"
      },
      "execution_count": null,
      "outputs": []
    },
    {
      "cell_type": "code",
      "source": [
        "# 학습\n",
        "\n",
        "model.fit(X_train, y_train)\n",
        "\n",
        "predictions = model.predict(X_test)\n",
        "predictions"
      ],
      "metadata": {
        "colab": {
          "base_uri": "https://localhost:8080/"
        },
        "id": "rCAXg9bEFxtj",
        "outputId": "f78049f7-b0cd-4135-b336-8b1d94a44ee7"
      },
      "execution_count": null,
      "outputs": [
        {
          "output_type": "execute_result",
          "data": {
            "text/plain": [
              "array([172.6026195 , 176.28148119, 104.69585481, 123.72910575,\n",
              "       125.12878964, 175.52777643, 221.40111622, 160.84217484,\n",
              "       216.01723864, 188.23640164,  95.28169994, 238.58023188,\n",
              "       223.41367966,  69.82514443, 105.76126405,  55.78164153,\n",
              "       116.03897361, 146.99490029, 178.51895098, 147.16712575,\n",
              "       110.60322975, 156.88163267,  82.29902838, 185.57040119,\n",
              "       145.62898108, 165.09134886, 291.17713684, 242.86947318,\n",
              "       211.9319605 , 287.46059301, 196.59189228, 127.43915807,\n",
              "       209.83861506, 183.15819322, 150.20566019, 114.49393354,\n",
              "       195.96237776, 213.02842684,  98.99933821,  91.55444562,\n",
              "       225.41194118, 103.49376254, 133.7647088 , 160.23455309,\n",
              "       137.48223777, 141.62190256, 157.64046084,  90.51687093,\n",
              "       173.31970041, 232.56300928, 165.0907746 , 147.67290485,\n",
              "       169.4460534 , 211.64082524, 152.86951042, 108.87126579,\n",
              "       122.67574881, 171.54413876, 170.1748932 , 207.48393919,\n",
              "       219.33977709, 164.91846473, 179.5982609 , 109.11283364,\n",
              "       168.16393454, 178.17555804, 196.60623749, 148.75087607,\n",
              "        62.29785679,  79.64136997, 255.36661513, 172.84151627,\n",
              "       178.39172584, 158.62372531,  99.94873049, 108.31535012,\n",
              "        82.19783247, 155.9056223 ,  95.23126658, 215.3870891 ,\n",
              "       119.18242996, 171.58798929, 216.81585153, 217.55816539,\n",
              "       137.37285692,  49.62501978,  70.52800996, 128.8604636 ,\n",
              "       185.57271988])"
            ]
          },
          "metadata": {},
          "execution_count": 74
        }
      ]
    },
    {
      "cell_type": "code",
      "source": [
        "# 평가\n",
        "\n",
        "from sklearn.metrics import mean_squared_error\n",
        "\n",
        "mse = mean_squared_error(y_test, predictions)\n",
        "mse"
      ],
      "metadata": {
        "colab": {
          "base_uri": "https://localhost:8080/"
        },
        "id": "nlcE4xHGFxrt",
        "outputId": "632f81ce-76cc-460a-ab54-3fe195ed566a"
      },
      "execution_count": null,
      "outputs": [
        {
          "output_type": "execute_result",
          "data": {
            "text/plain": [
              "2787.6715824467237"
            ]
          },
          "metadata": {},
          "execution_count": 75
        }
      ]
    },
    {
      "cell_type": "code",
      "source": [
        "# 시각화\n",
        "\n",
        "plt.scatter(X_test[:, 0], y_test, label=\"True\")\n",
        "plt.scatter(X_test[:, 0], predictions, label=\"Pred\")\n",
        "plt.legend()\n",
        "plt.show()"
      ],
      "metadata": {
        "colab": {
          "base_uri": "https://localhost:8080/",
          "height": 265
        },
        "id": "xbjT78BWET8E",
        "outputId": "d93c2ad3-62f4-4676-fb9e-c5fbdb427830"
      },
      "execution_count": null,
      "outputs": [
        {
          "output_type": "display_data",
          "data": {
            "text/plain": [
              "<Figure size 432x288 with 1 Axes>"
            ],
            "image/png": "[encoded data removed]"
          },
          "metadata": {
            "needs_background": "light"
          }
        }
      ]
    },
    {
      "cell_type": "markdown",
      "source": [
        "## 프로젝트 결과 및 토의\n",
        "\n",
        "이 프로젝트에서 나는 당뇨병 수치를 예측하기 위해서 선형회귀 모델을 사용하였다. 선형회귀 모델은 feature data와 target데이터의 관계를 입력값에 가중치를 계산하여 관계를 알아내는 모델이다. 이를 위해 손실함수의 기울기를 통해 경사하강법을 이용하여 가장 손실함수값이 적도록 만들어야한다.\n",
        "\n",
        "이 과정에서 가장 중요한 것은 적절한 하이퍼 파라미터를 적용하는 것이다. 여기선 학습률이 하이퍼 파라미터인데 너무 큰 값을 사용하면 발산해버리고, 너무 작은 값을 사용하면 학습 속도가 더디다. 따라서 다양한 값을 써보면서 어떤 값이 최적의 값인지 확인해야한다. 이를 위해 학습횟수는 1000회로 동일하게 두고 여러 개의 학습률 값을 바꿔가며 시도해보았다.\n",
        "\n",
        "가장 적절한 하이퍼 파라미터를 찾기 위한 방법들이 여럿 있는데 나는 10배씩 값을 바꿔가며 손실함수의 변화를 살펴보기로 했다. 0.001부터 시작해서 값을 늘리다가 0.1에서 1로 넘어가는 순간 손실함수가 발산한다는 것을 확인했으며 학습률을 천천히 조정해 손실함수가 작아지지 않고 커지는 지점을 찾아내어 그 직전의 값을 적용했다. 그리고 이렇게 얻은 하이퍼 파라미터를 사용한 결과는 사이킷런의 내장 모델과 유사한 결과를 보여주었다."
      ],
      "metadata": {
        "id": "l_HUmaVMYMLR"
      }
    },
    {
      "cell_type": "markdown",
      "source": [
        "# Bikes Regression"
      ],
      "metadata": {
        "id": "81_ecETXsV3_"
      }
    },
    {
      "cell_type": "markdown",
      "source": [
        "## 데이터 가져오기"
      ],
      "metadata": {
        "id": "HvwsoP9SyUIv"
      }
    },
    {
      "cell_type": "code",
      "source": [
        "from os.path import join\n",
        "import pandas as pd\n",
        "\n",
        "data_dir = '/content/drive/MyDrive/아이펠 데이터/bike-sharing'\n",
        "\n",
        "train_data_path = join(data_dir, 'train (1).csv')\n",
        "sub_data_path = join(data_dir, 'sampleSubmission.csv')\n",
        "test_data_path = join(data_dir, 'test (1).csv')\n",
        "\n",
        "\n",
        "data = pd.read_csv(train_data_path)\n",
        "sub = pd.read_csv(sub_data_path)\n",
        "test = pd.read_csv(test_data_path)\n",
        "\n",
        "print(dir(data))\n",
        "print('train data dim : {}'.format(data.shape))\n",
        "print('test data dim : {}'.format(test.shape))\n",
        "\n",
        "data.head()"
      ],
      "metadata": {
        "colab": {
          "base_uri": "https://localhost:8080/",
          "height": 278
        },
        "id": "R2g5EzoYsgbe",
        "outputId": "22ed9978-5832-4cfa-b4e8-e70889a8e9ed"
      },
      "execution_count": null,
      "outputs": [
        {
          "output_type": "stream",
          "name": "stdout",
          "text": [
            "['T', '_AXIS_LEN', '_AXIS_ORDERS', '_AXIS_REVERSED', '_AXIS_TO_AXIS_NUMBER', '_HANDLED_TYPES', '__abs__', '__add__', '__and__', '__annotations__', '__array__', '__array_priority__', '__array_ufunc__', '__array_wrap__', '__bool__', '__class__', '__contains__', '__copy__', '__deepcopy__', '__delattr__', '__delitem__', '__dict__', '__dir__', '__divmod__', '__doc__', '__eq__', '__finalize__', '__floordiv__', '__format__', '__ge__', '__getattr__', '__getattribute__', '__getitem__', '__getstate__', '__gt__', '__hash__', '__iadd__', '__iand__', '__ifloordiv__', '__imod__', '__imul__', '__init__', '__init_subclass__', '__invert__', '__ior__', '__ipow__', '__isub__', '__iter__', '__itruediv__', '__ixor__', '__le__', '__len__', '__lt__', '__matmul__', '__mod__', '__module__', '__mul__', '__ne__', '__neg__', '__new__', '__nonzero__', '__or__', '__pos__', '__pow__', '__radd__', '__rand__', '__rdivmod__', '__reduce__', '__reduce_ex__', '__repr__', '__rfloordiv__', '__rmatmul__', '__rmod__', '__rmul__', '__ror__', '__round__', '__rpow__', '__rsub__', '__rtruediv__', '__rxor__', '__setattr__', '__setitem__', '__setstate__', '__sizeof__', '__str__', '__sub__', '__subclasshook__', '__truediv__', '__weakref__', '__xor__', '_accessors', '_accum_func', '_add_numeric_operations', '_agg_by_level', '_agg_examples_doc', '_agg_summary_and_see_also_doc', '_align_frame', '_align_series', '_arith_method', '_as_manager', '_attrs', '_box_col_values', '_can_fast_transpose', '_check_inplace_and_allows_duplicate_labels', '_check_inplace_setting', '_check_is_chained_assignment_possible', '_check_label_or_level_ambiguity', '_check_setitem_copy', '_clear_item_cache', '_clip_with_one_bound', '_clip_with_scalar', '_cmp_method', '_combine_frame', '_consolidate', '_consolidate_inplace', '_construct_axes_dict', '_construct_axes_from_arguments', '_construct_result', '_constructor', '_constructor_sliced', '_convert', '_count_level', '_data', '_dir_additions', '_dir_deletions', '_dispatch_frame_op', '_drop_axis', '_drop_labels_or_levels', '_ensure_valid_index', '_find_valid_index', '_flags', '_from_arrays', '_from_mgr', '_get_agg_axis', '_get_axis', '_get_axis_name', '_get_axis_number', '_get_axis_resolvers', '_get_block_manager_axis', '_get_bool_data', '_get_cleaned_column_resolvers', '_get_column_array', '_get_index_resolvers', '_get_item_cache', '_get_label_or_level_values', '_get_numeric_data', '_get_value', '_getitem_bool_array', '_getitem_multilevel', '_gotitem', '_hidden_attrs', '_indexed_same', '_info_axis', '_info_axis_name', '_info_axis_number', '_info_repr', '_init_mgr', '_inplace_method', '_internal_names', '_internal_names_set', '_is_copy', '_is_homogeneous_type', '_is_label_or_level_reference', '_is_label_reference', '_is_level_reference', '_is_mixed_type', '_is_view', '_iset_item', '_iset_item_mgr', '_iset_not_inplace', '_item_cache', '_iter_column_arrays', '_ixs', '_join_compat', '_logical_func', '_logical_method', '_maybe_cache_changed', '_maybe_update_cacher', '_metadata', '_mgr', '_min_count_stat_function', '_needs_reindex_multi', '_protect_consolidate', '_reduce', '_reindex_axes', '_reindex_columns', '_reindex_index', '_reindex_multi', '_reindex_with_indexers', '_replace_columnwise', '_repr_data_resource_', '_repr_fits_horizontal_', '_repr_fits_vertical_', '_repr_html_', '_repr_latex_', '_reset_cache', '_reset_cacher', '_sanitize_column', '_series', '_set_axis', '_set_axis_name', '_set_axis_nocheck', '_set_is_copy', '_set_item', '_set_item_frame_value', '_set_item_mgr', '_set_value', '_setitem_array', '_setitem_frame', '_setitem_slice', '_slice', '_stat_axis', '_stat_axis_name', '_stat_axis_number', '_stat_function', '_stat_function_ddof', '_take_with_is_copy', '_to_dict_of_blocks', '_typ', '_update_inplace', '_validate_dtype', '_values', '_where', 'abs', 'add', 'add_prefix', 'add_suffix', 'agg', 'aggregate', 'align', 'all', 'any', 'append', 'apply', 'applymap', 'asfreq', 'asof', 'assign', 'astype', 'at', 'at_time', 'atemp', 'attrs', 'axes', 'backfill', 'between_time', 'bfill', 'bool', 'boxplot', 'casual', 'clip', 'columns', 'combine', 'combine_first', 'compare', 'convert_dtypes', 'copy', 'corr', 'corrwith', 'count', 'cov', 'cummax', 'cummin', 'cumprod', 'cumsum', 'datetime', 'describe', 'diff', 'div', 'divide', 'dot', 'drop', 'drop_duplicates', 'droplevel', 'dropna', 'dtypes', 'duplicated', 'empty', 'eq', 'equals', 'eval', 'ewm', 'expanding', 'explode', 'ffill', 'fillna', 'filter', 'first', 'first_valid_index', 'flags', 'floordiv', 'from_dict', 'from_records', 'ge', 'get', 'groupby', 'gt', 'head', 'hist', 'holiday', 'humidity', 'iat', 'idxmax', 'idxmin', 'iloc', 'index', 'infer_objects', 'info', 'insert', 'interpolate', 'isin', 'isna', 'isnull', 'items', 'iteritems', 'iterrows', 'itertuples', 'join', 'keys', 'kurt', 'kurtosis', 'last', 'last_valid_index', 'le', 'loc', 'lookup', 'lt', 'mad', 'mask', 'max', 'mean', 'median', 'melt', 'memory_usage', 'merge', 'min', 'mod', 'mode', 'mul', 'multiply', 'ndim', 'ne', 'nlargest', 'notna', 'notnull', 'nsmallest', 'nunique', 'pad', 'pct_change', 'pipe', 'pivot', 'pivot_table', 'plot', 'pop', 'pow', 'prod', 'product', 'quantile', 'query', 'radd', 'rank', 'rdiv', 'registered', 'reindex', 'reindex_like', 'rename', 'rename_axis', 'reorder_levels', 'replace', 'resample', 'reset_index', 'rfloordiv', 'rmod', 'rmul', 'rolling', 'round', 'rpow', 'rsub', 'rtruediv', 'sample', 'season', 'select_dtypes', 'sem', 'set_axis', 'set_flags', 'set_index', 'shape', 'shift', 'size', 'skew', 'slice_shift', 'sort_index', 'sort_values', 'squeeze', 'stack', 'std', 'style', 'sub', 'subtract', 'sum', 'swapaxes', 'swaplevel', 'tail', 'take', 'temp', 'to_clipboard', 'to_csv', 'to_dict', 'to_excel', 'to_feather', 'to_gbq', 'to_hdf', 'to_html', 'to_json', 'to_latex', 'to_markdown', 'to_numpy', 'to_parquet', 'to_period', 'to_pickle', 'to_records', 'to_sql', 'to_stata', 'to_string', 'to_timestamp', 'to_xarray', 'to_xml', 'transform', 'transpose', 'truediv', 'truncate', 'tz_convert', 'tz_localize', 'unstack', 'update', 'value_counts', 'values', 'var', 'weather', 'where', 'windspeed', 'workingday', 'xs']\n",
            "train data dim : (10886, 12)\n",
            "test data dim : (6493, 9)\n"
          ]
        },
        {
          "output_type": "execute_result",
          "data": {
            "text/plain": [
              "              datetime  season  holiday  workingday  weather  temp   atemp  \\\n",
              "0  2011-01-01 00:00:00       1        0           0        1  9.84  14.395   \n",
              "1  2011-01-01 01:00:00       1        0           0        1  9.02  13.635   \n",
              "2  2011-01-01 02:00:00       1        0           0        1  9.02  13.635   \n",
              "3  2011-01-01 03:00:00       1        0           0        1  9.84  14.395   \n",
              "4  2011-01-01 04:00:00       1        0           0        1  9.84  14.395   \n",
              "\n",
              "   humidity  windspeed  casual  registered  count  \n",
              "0        81        0.0       3          13     16  \n",
              "1        80        0.0       8          32     40  \n",
              "2        80        0.0       5          27     32  \n",
              "3        75        0.0       3          10     13  \n",
              "4        75        0.0       0           1      1  "
            ],
            "text/html": [
              "\n",
              "  <div id=\"df-964e5819-77bf-4134-a3dc-12903adfd12b\">\n",
              "    <div class=\"colab-df-container\">\n",
              "      <div>\n",
              "<style scoped>\n",
              "    .dataframe tbody tr th:only-of-type {\n",
              "        vertical-align: middle;\n",
              "    }\n",
              "\n",
              "    .dataframe tbody tr th {\n",
              "        vertical-align: top;\n",
              "    }\n",
              "\n",
              "    .dataframe thead th {\n",
              "        text-align: right;\n",
              "    }\n",
              "</style>\n",
              "<table border=\"1\" class=\"dataframe\">\n",
              "  <thead>\n",
              "    <tr style=\"text-align: right;\">\n",
              "      <th></th>\n",
              "      <th>datetime</th>\n",
              "      <th>season</th>\n",
              "      <th>holiday</th>\n",
              "      <th>workingday</th>\n",
              "      <th>weather</th>\n",
              "      <th>temp</th>\n",
              "      <th>atemp</th>\n",
              "      <th>humidity</th>\n",
              "      <th>windspeed</th>\n",
              "      <th>casual</th>\n",
              "      <th>registered</th>\n",
              "      <th>count</th>\n",
              "    </tr>\n",
              "  </thead>\n",
              "  <tbody>\n",
              "    <tr>\n",
              "      <th>0</th>\n",
              "      <td>2011-01-01 00:00:00</td>\n",
              "      <td>1</td>\n",
              "      <td>0</td>\n",
              "      <td>0</td>\n",
              "      <td>1</td>\n",
              "      <td>9.84</td>\n",
              "      <td>14.395</td>\n",
              "      <td>81</td>\n",
              "      <td>0.0</td>\n",
              "      <td>3</td>\n",
              "      <td>13</td>\n",
              "      <td>16</td>\n",
              "    </tr>\n",
              "    <tr>\n",
              "      <th>1</th>\n",
              "      <td>2011-01-01 01:00:00</td>\n",
              "      <td>1</td>\n",
              "      <td>0</td>\n",
              "      <td>0</td>\n",
              "      <td>1</td>\n",
              "      <td>9.02</td>\n",
              "      <td>13.635</td>\n",
              "      <td>80</td>\n",
              "      <td>0.0</td>\n",
              "      <td>8</td>\n",
              "      <td>32</td>\n",
              "      <td>40</td>\n",
              "    </tr>\n",
              "    <tr>\n",
              "      <th>2</th>\n",
              "      <td>2011-01-01 02:00:00</td>\n",
              "      <td>1</td>\n",
              "      <td>0</td>\n",
              "      <td>0</td>\n",
              "      <td>1</td>\n",
              "      <td>9.02</td>\n",
              "      <td>13.635</td>\n",
              "      <td>80</td>\n",
              "      <td>0.0</td>\n",
              "      <td>5</td>\n",
              "      <td>27</td>\n",
              "      <td>32</td>\n",
              "    </tr>\n",
              "    <tr>\n",
              "      <th>3</th>\n",
              "      <td>2011-01-01 03:00:00</td>\n",
              "      <td>1</td>\n",
              "      <td>0</td>\n",
              "      <td>0</td>\n",
              "      <td>1</td>\n",
              "      <td>9.84</td>\n",
              "      <td>14.395</td>\n",
              "      <td>75</td>\n",
              "      <td>0.0</td>\n",
              "      <td>3</td>\n",
              "      <td>10</td>\n",
              "      <td>13</td>\n",
              "    </tr>\n",
              "    <tr>\n",
              "      <th>4</th>\n",
              "      <td>2011-01-01 04:00:00</td>\n",
              "      <td>1</td>\n",
              "      <td>0</td>\n",
              "      <td>0</td>\n",
              "      <td>1</td>\n",
              "      <td>9.84</td>\n",
              "      <td>14.395</td>\n",
              "      <td>75</td>\n",
              "      <td>0.0</td>\n",
              "      <td>0</td>\n",
              "      <td>1</td>\n",
              "      <td>1</td>\n",
              "    </tr>\n",
              "  </tbody>\n",
              "</table>\n",
              "</div>\n",
              "      <button class=\"colab-df-convert\" onclick=\"convertToInteractive('df-964e5819-77bf-4134-a3dc-12903adfd12b')\"\n",
              "              title=\"Convert this dataframe to an interactive table.\"\n",
              "              style=\"display:none;\">\n",
              "        \n",
              "  <svg xmlns=\"http://www.w3.org/2000/svg\" height=\"24px\"viewBox=\"0 0 24 24\"\n",
              "       width=\"24px\">\n",
              "    <path d=\"M0 0h24v24H0V0z\" fill=\"none\"/>\n",
              "    <path d=\"M18.56 5.44l.94 2.06.94-2.06 2.06-.94-2.06-.94-.94-2.06-.94 2.06-2.06.94zm-11 1L8.5 8.5l.94-2.06 2.06-.94-2.06-.94L8.5 2.5l-.94 2.06-2.06.94zm10 10l.94 2.06.94-2.06 2.06-.94-2.06-.94-.94-2.06-.94 2.06-2.06.94z\"/><path d=\"M17.41 7.96l-1.37-1.37c-.4-.4-.92-.59-1.43-.59-.52 0-1.04.2-1.43.59L10.3 9.45l-7.72 7.72c-.78.78-.78 2.05 0 2.83L4 21.41c.39.39.9.59 1.41.59.51 0 1.02-.2 1.41-.59l7.78-7.78 2.81-2.81c.8-.78.8-2.07 0-2.86zM5.41 20L4 18.59l7.72-7.72 1.47 1.35L5.41 20z\"/>\n",
              "  </svg>\n",
              "      </button>\n",
              "      \n",
              "  <style>\n",
              "    .colab-df-container {\n",
              "      display:flex;\n",
              "      flex-wrap:wrap;\n",
              "      gap: 12px;\n",
              "    }\n",
              "\n",
              "    .colab-df-convert {\n",
              "      background-color: #E8F0FE;\n",
              "      border: none;\n",
              "      border-radius: 50%;\n",
              "      cursor: pointer;\n",
              "      display: none;\n",
              "      fill: #1967D2;\n",
              "      height: 32px;\n",
              "      padding: 0 0 0 0;\n",
              "      width: 32px;\n",
              "    }\n",
              "\n",
              "    .colab-df-convert:hover {\n",
              "      background-color: #E2EBFA;\n",
              "      box-shadow: 0px 1px 2px rgba(60, 64, 67, 0.3), 0px 1px 3px 1px rgba(60, 64, 67, 0.15);\n",
              "      fill: #174EA6;\n",
              "    }\n",
              "\n",
              "    [theme=dark] .colab-df-convert {\n",
              "      background-color: #3B4455;\n",
              "      fill: #D2E3FC;\n",
              "    }\n",
              "\n",
              "    [theme=dark] .colab-df-convert:hover {\n",
              "      background-color: #434B5C;\n",
              "      box-shadow: 0px 1px 3px 1px rgba(0, 0, 0, 0.15);\n",
              "      filter: drop-shadow(0px 1px 2px rgba(0, 0, 0, 0.3));\n",
              "      fill: #FFFFFF;\n",
              "    }\n",
              "  </style>\n",
              "\n",
              "      <script>\n",
              "        const buttonEl =\n",
              "          document.querySelector('#df-964e5819-77bf-4134-a3dc-12903adfd12b button.colab-df-convert');\n",
              "        buttonEl.style.display =\n",
              "          google.colab.kernel.accessAllowed ? 'block' : 'none';\n",
              "\n",
              "        async function convertToInteractive(key) {\n",
              "          const element = document.querySelector('#df-964e5819-77bf-4134-a3dc-12903adfd12b');\n",
              "          const dataTable =\n",
              "            await google.colab.kernel.invokeFunction('convertToInteractive',\n",
              "                                                     [key], {});\n",
              "          if (!dataTable) return;\n",
              "\n",
              "          const docLinkHtml = 'Like what you see? Visit the ' +\n",
              "            '<a target=\"_blank\" href=https://colab.research.google.com/notebooks/data_table.ipynb>data table notebook</a>'\n",
              "            + ' to learn more about interactive tables.';\n",
              "          element.innerHTML = '';\n",
              "          dataTable['output_type'] = 'display_data';\n",
              "          await google.colab.output.renderOutput(dataTable, element);\n",
              "          const docLink = document.createElement('div');\n",
              "          docLink.innerHTML = docLinkHtml;\n",
              "          element.appendChild(docLink);\n",
              "        }\n",
              "      </script>\n",
              "    </div>\n",
              "  </div>\n",
              "  "
            ]
          },
          "metadata": {},
          "execution_count": 99
        }
      ]
    },
    {
      "cell_type": "markdown",
      "source": [
        "## datetime 컬럼을 datetime 자료형으로 변환하고 연, 월, 일, 시, 분, 초까지 6가지 컬럼 생성하기"
      ],
      "metadata": {
        "id": "walzgmbC0UCL"
      }
    },
    {
      "cell_type": "code",
      "source": [
        "data['datetime'] = pd.to_datetime(data['datetime'])\n",
        "\n",
        "data['datetime'].dt.year \n",
        "data['datetime'].dt.month\n",
        "data['datetime'].dt.day \n",
        "data['datetime'].dt.hour\n",
        "data['datetime'].dt.minute \n",
        "data['datetime'].dt.second\n",
        "\n",
        "data.insert(0, 'year', data['datetime'].dt.year)\n",
        "data.insert(1, 'month', data['datetime'].dt.month)\n",
        "data.insert(2, 'day', data['datetime'].dt.day)\n",
        "data.insert(3, 'hour', data['datetime'].dt.hour)\n",
        "data.insert(4, 'minute', data['datetime'].dt.minute)\n",
        "data.insert(5, 'second', data['datetime'].dt.second)\n",
        "\n",
        "del data['datetime']\n",
        "\n",
        "data.tail()"
      ],
      "metadata": {
        "colab": {
          "base_uri": "https://localhost:8080/",
          "height": 206
        },
        "id": "8SBzHipQsgZW",
        "outputId": "b77f4059-5df6-4263-cab5-42d302b5f182"
      },
      "execution_count": null,
      "outputs": [
        {
          "output_type": "execute_result",
          "data": {
            "text/plain": [
              "       year  month  day  hour  minute  second  season  holiday  workingday  \\\n",
              "10881  2012     12   19    19       0       0       4        0           1   \n",
              "10882  2012     12   19    20       0       0       4        0           1   \n",
              "10883  2012     12   19    21       0       0       4        0           1   \n",
              "10884  2012     12   19    22       0       0       4        0           1   \n",
              "10885  2012     12   19    23       0       0       4        0           1   \n",
              "\n",
              "       weather   temp   atemp  humidity  windspeed  casual  registered  count  \n",
              "10881        1  15.58  19.695        50    26.0027       7         329    336  \n",
              "10882        1  14.76  17.425        57    15.0013      10         231    241  \n",
              "10883        1  13.94  15.910        61    15.0013       4         164    168  \n",
              "10884        1  13.94  17.425        61     6.0032      12         117    129  \n",
              "10885        1  13.12  16.665        66     8.9981       4          84     88  "
            ],
            "text/html": [
              "\n",
              "  <div id=\"df-e421c605-58ff-486d-ae13-2223133e70f5\">\n",
              "    <div class=\"colab-df-container\">\n",
              "      <div>\n",
              "<style scoped>\n",
              "    .dataframe tbody tr th:only-of-type {\n",
              "        vertical-align: middle;\n",
              "    }\n",
              "\n",
              "    .dataframe tbody tr th {\n",
              "        vertical-align: top;\n",
              "    }\n",
              "\n",
              "    .dataframe thead th {\n",
              "        text-align: right;\n",
              "    }\n",
              "</style>\n",
              "<table border=\"1\" class=\"dataframe\">\n",
              "  <thead>\n",
              "    <tr style=\"text-align: right;\">\n",
              "      <th></th>\n",
              "      <th>year</th>\n",
              "      <th>month</th>\n",
              "      <th>day</th>\n",
              "      <th>hour</th>\n",
              "      <th>minute</th>\n",
              "      <th>second</th>\n",
              "      <th>season</th>\n",
              "      <th>holiday</th>\n",
              "      <th>workingday</th>\n",
              "      <th>weather</th>\n",
              "      <th>temp</th>\n",
              "      <th>atemp</th>\n",
              "      <th>humidity</th>\n",
              "      <th>windspeed</th>\n",
              "      <th>casual</th>\n",
              "      <th>registered</th>\n",
              "      <th>count</th>\n",
              "    </tr>\n",
              "  </thead>\n",
              "  <tbody>\n",
              "    <tr>\n",
              "      <th>10881</th>\n",
              "      <td>2012</td>\n",
              "      <td>12</td>\n",
              "      <td>19</td>\n",
              "      <td>19</td>\n",
              "      <td>0</td>\n",
              "      <td>0</td>\n",
              "      <td>4</td>\n",
              "      <td>0</td>\n",
              "      <td>1</td>\n",
              "      <td>1</td>\n",
              "      <td>15.58</td>\n",
              "      <td>19.695</td>\n",
              "      <td>50</td>\n",
              "      <td>26.0027</td>\n",
              "      <td>7</td>\n",
              "      <td>329</td>\n",
              "      <td>336</td>\n",
              "    </tr>\n",
              "    <tr>\n",
              "      <th>10882</th>\n",
              "      <td>2012</td>\n",
              "      <td>12</td>\n",
              "      <td>19</td>\n",
              "      <td>20</td>\n",
              "      <td>0</td>\n",
              "      <td>0</td>\n",
              "      <td>4</td>\n",
              "      <td>0</td>\n",
              "      <td>1</td>\n",
              "      <td>1</td>\n",
              "      <td>14.76</td>\n",
              "      <td>17.425</td>\n",
              "      <td>57</td>\n",
              "      <td>15.0013</td>\n",
              "      <td>10</td>\n",
              "      <td>231</td>\n",
              "      <td>241</td>\n",
              "    </tr>\n",
              "    <tr>\n",
              "      <th>10883</th>\n",
              "      <td>2012</td>\n",
              "      <td>12</td>\n",
              "      <td>19</td>\n",
              "      <td>21</td>\n",
              "      <td>0</td>\n",
              "      <td>0</td>\n",
              "      <td>4</td>\n",
              "      <td>0</td>\n",
              "      <td>1</td>\n",
              "      <td>1</td>\n",
              "      <td>13.94</td>\n",
              "      <td>15.910</td>\n",
              "      <td>61</td>\n",
              "      <td>15.0013</td>\n",
              "      <td>4</td>\n",
              "      <td>164</td>\n",
              "      <td>168</td>\n",
              "    </tr>\n",
              "    <tr>\n",
              "      <th>10884</th>\n",
              "      <td>2012</td>\n",
              "      <td>12</td>\n",
              "      <td>19</td>\n",
              "      <td>22</td>\n",
              "      <td>0</td>\n",
              "      <td>0</td>\n",
              "      <td>4</td>\n",
              "      <td>0</td>\n",
              "      <td>1</td>\n",
              "      <td>1</td>\n",
              "      <td>13.94</td>\n",
              "      <td>17.425</td>\n",
              "      <td>61</td>\n",
              "      <td>6.0032</td>\n",
              "      <td>12</td>\n",
              "      <td>117</td>\n",
              "      <td>129</td>\n",
              "    </tr>\n",
              "    <tr>\n",
              "      <th>10885</th>\n",
              "      <td>2012</td>\n",
              "      <td>12</td>\n",
              "      <td>19</td>\n",
              "      <td>23</td>\n",
              "      <td>0</td>\n",
              "      <td>0</td>\n",
              "      <td>4</td>\n",
              "      <td>0</td>\n",
              "      <td>1</td>\n",
              "      <td>1</td>\n",
              "      <td>13.12</td>\n",
              "      <td>16.665</td>\n",
              "      <td>66</td>\n",
              "      <td>8.9981</td>\n",
              "      <td>4</td>\n",
              "      <td>84</td>\n",
              "      <td>88</td>\n",
              "    </tr>\n",
              "  </tbody>\n",
              "</table>\n",
              "</div>\n",
              "      <button class=\"colab-df-convert\" onclick=\"convertToInteractive('df-e421c605-58ff-486d-ae13-2223133e70f5')\"\n",
              "              title=\"Convert this dataframe to an interactive table.\"\n",
              "              style=\"display:none;\">\n",
              "        \n",
              "  <svg xmlns=\"http://www.w3.org/2000/svg\" height=\"24px\"viewBox=\"0 0 24 24\"\n",
              "       width=\"24px\">\n",
              "    <path d=\"M0 0h24v24H0V0z\" fill=\"none\"/>\n",
              "    <path d=\"M18.56 5.44l.94 2.06.94-2.06 2.06-.94-2.06-.94-.94-2.06-.94 2.06-2.06.94zm-11 1L8.5 8.5l.94-2.06 2.06-.94-2.06-.94L8.5 2.5l-.94 2.06-2.06.94zm10 10l.94 2.06.94-2.06 2.06-.94-2.06-.94-.94-2.06-.94 2.06-2.06.94z\"/><path d=\"M17.41 7.96l-1.37-1.37c-.4-.4-.92-.59-1.43-.59-.52 0-1.04.2-1.43.59L10.3 9.45l-7.72 7.72c-.78.78-.78 2.05 0 2.83L4 21.41c.39.39.9.59 1.41.59.51 0 1.02-.2 1.41-.59l7.78-7.78 2.81-2.81c.8-.78.8-2.07 0-2.86zM5.41 20L4 18.59l7.72-7.72 1.47 1.35L5.41 20z\"/>\n",
              "  </svg>\n",
              "      </button>\n",
              "      \n",
              "  <style>\n",
              "    .colab-df-container {\n",
              "      display:flex;\n",
              "      flex-wrap:wrap;\n",
              "      gap: 12px;\n",
              "    }\n",
              "\n",
              "    .colab-df-convert {\n",
              "      background-color: #E8F0FE;\n",
              "      border: none;\n",
              "      border-radius: 50%;\n",
              "      cursor: pointer;\n",
              "      display: none;\n",
              "      fill: #1967D2;\n",
              "      height: 32px;\n",
              "      padding: 0 0 0 0;\n",
              "      width: 32px;\n",
              "    }\n",
              "\n",
              "    .colab-df-convert:hover {\n",
              "      background-color: #E2EBFA;\n",
              "      box-shadow: 0px 1px 2px rgba(60, 64, 67, 0.3), 0px 1px 3px 1px rgba(60, 64, 67, 0.15);\n",
              "      fill: #174EA6;\n",
              "    }\n",
              "\n",
              "    [theme=dark] .colab-df-convert {\n",
              "      background-color: #3B4455;\n",
              "      fill: #D2E3FC;\n",
              "    }\n",
              "\n",
              "    [theme=dark] .colab-df-convert:hover {\n",
              "      background-color: #434B5C;\n",
              "      box-shadow: 0px 1px 3px 1px rgba(0, 0, 0, 0.15);\n",
              "      filter: drop-shadow(0px 1px 2px rgba(0, 0, 0, 0.3));\n",
              "      fill: #FFFFFF;\n",
              "    }\n",
              "  </style>\n",
              "\n",
              "      <script>\n",
              "        const buttonEl =\n",
              "          document.querySelector('#df-e421c605-58ff-486d-ae13-2223133e70f5 button.colab-df-convert');\n",
              "        buttonEl.style.display =\n",
              "          google.colab.kernel.accessAllowed ? 'block' : 'none';\n",
              "\n",
              "        async function convertToInteractive(key) {\n",
              "          const element = document.querySelector('#df-e421c605-58ff-486d-ae13-2223133e70f5');\n",
              "          const dataTable =\n",
              "            await google.colab.kernel.invokeFunction('convertToInteractive',\n",
              "                                                     [key], {});\n",
              "          if (!dataTable) return;\n",
              "\n",
              "          const docLinkHtml = 'Like what you see? Visit the ' +\n",
              "            '<a target=\"_blank\" href=https://colab.research.google.com/notebooks/data_table.ipynb>data table notebook</a>'\n",
              "            + ' to learn more about interactive tables.';\n",
              "          element.innerHTML = '';\n",
              "          dataTable['output_type'] = 'display_data';\n",
              "          await google.colab.output.renderOutput(dataTable, element);\n",
              "          const docLink = document.createElement('div');\n",
              "          docLink.innerHTML = docLinkHtml;\n",
              "          element.appendChild(docLink);\n",
              "        }\n",
              "      </script>\n",
              "    </div>\n",
              "  </div>\n",
              "  "
            ]
          },
          "metadata": {},
          "execution_count": 100
        }
      ]
    },
    {
      "cell_type": "markdown",
      "source": [
        "## year, month, day, hour, minute, second 데이터 개수 시각화하기"
      ],
      "metadata": {
        "id": "dsVRQHvP4EVa"
      }
    },
    {
      "cell_type": "code",
      "source": [
        "import seaborn as sns\n",
        "import matplotlib.pyplot as plt\n",
        "\n",
        "fig = plt.figure(figsize=(10,15))\n",
        "\n",
        "year = fig.add_subplot(3,2,1)\n",
        "month = fig.add_subplot(3,2,2)\n",
        "day = fig.add_subplot(3,2,3)\n",
        "hour = fig.add_subplot(3,2,4)\n",
        "minute = fig.add_subplot(3,2,5)\n",
        "second = fig.add_subplot(3,2,6)\n",
        "\n",
        "Year = sns.countplot(x=\"year\",data=data, ax=year)\n",
        "Month = sns.countplot(x=\"month\",data=data, ax=month)\n",
        "Day = sns.countplot(x=\"day\",data=data, ax=day)\n",
        "Hour = sns.countplot(x=\"hour\",data=data, ax=hour)\n",
        "Minute = sns.countplot(x=\"minute\",data=data, ax=minute)\n",
        "Second = sns.countplot(x=\"second\",data=data, ax=second)"
      ],
      "metadata": {
        "colab": {
          "base_uri": "https://localhost:8080/",
          "height": 877
        },
        "id": "65QbU7NWsgW_",
        "outputId": "ededa871-7eb3-46a1-9c90-285794378b74"
      },
      "execution_count": null,
      "outputs": [
        {
          "output_type": "display_data",
          "data": {
            "text/plain": [
              "<Figure size 720x1080 with 6 Axes>"
            ],
            "image/png": "[encoded data removed]"
          },
          "metadata": {
            "needs_background": "light"
          }
        }
      ]
    },
    {
      "cell_type": "markdown",
      "source": [
        "## X, y 컬럼 선택 및 train/test 데이터 분리"
      ],
      "metadata": {
        "id": "iIQfodwo_Qq0"
      }
    },
    {
      "cell_type": "code",
      "source": [
        "# feature data로 사용하기에 부적절한 컬럼 제외\n",
        "# target data인 count를 y로 사용\n",
        "\n",
        "features = ['year','month','day','hour','season','holiday','workingday','weather','temp', 'atemp', 'humidity', 'windspeed']\n",
        "target = 'count'\n",
        "\n",
        "X = data[features]\n",
        "y = data[target]\n",
        "\n",
        "X.head()"
      ],
      "metadata": {
        "colab": {
          "base_uri": "https://localhost:8080/",
          "height": 206
        },
        "id": "xJFrEyaAsgUn",
        "outputId": "1f83b6f6-a608-45f4-e9b7-01ddf1d0b812"
      },
      "execution_count": null,
      "outputs": [
        {
          "output_type": "execute_result",
          "data": {
            "text/plain": [
              "   year  month  day  hour  season  holiday  workingday  weather  temp   atemp  \\\n",
              "0  2011      1    1     0       1        0           0        1  9.84  14.395   \n",
              "1  2011      1    1     1       1        0           0        1  9.02  13.635   \n",
              "2  2011      1    1     2       1        0           0        1  9.02  13.635   \n",
              "3  2011      1    1     3       1        0           0        1  9.84  14.395   \n",
              "4  2011      1    1     4       1        0           0        1  9.84  14.395   \n",
              "\n",
              "   humidity  windspeed  \n",
              "0        81        0.0  \n",
              "1        80        0.0  \n",
              "2        80        0.0  \n",
              "3        75        0.0  \n",
              "4        75        0.0  "
            ],
            "text/html": [
              "\n",
              "  <div id=\"df-d23e1445-e71c-48f9-9a20-a81ff3e4fbd3\">\n",
              "    <div class=\"colab-df-container\">\n",
              "      <div>\n",
              "<style scoped>\n",
              "    .dataframe tbody tr th:only-of-type {\n",
              "        vertical-align: middle;\n",
              "    }\n",
              "\n",
              "    .dataframe tbody tr th {\n",
              "        vertical-align: top;\n",
              "    }\n",
              "\n",
              "    .dataframe thead th {\n",
              "        text-align: right;\n",
              "    }\n",
              "</style>\n",
              "<table border=\"1\" class=\"dataframe\">\n",
              "  <thead>\n",
              "    <tr style=\"text-align: right;\">\n",
              "      <th></th>\n",
              "      <th>year</th>\n",
              "      <th>month</th>\n",
              "      <th>day</th>\n",
              "      <th>hour</th>\n",
              "      <th>season</th>\n",
              "      <th>holiday</th>\n",
              "      <th>workingday</th>\n",
              "      <th>weather</th>\n",
              "      <th>temp</th>\n",
              "      <th>atemp</th>\n",
              "      <th>humidity</th>\n",
              "      <th>windspeed</th>\n",
              "    </tr>\n",
              "  </thead>\n",
              "  <tbody>\n",
              "    <tr>\n",
              "      <th>0</th>\n",
              "      <td>2011</td>\n",
              "      <td>1</td>\n",
              "      <td>1</td>\n",
              "      <td>0</td>\n",
              "      <td>1</td>\n",
              "      <td>0</td>\n",
              "      <td>0</td>\n",
              "      <td>1</td>\n",
              "      <td>9.84</td>\n",
              "      <td>14.395</td>\n",
              "      <td>81</td>\n",
              "      <td>0.0</td>\n",
              "    </tr>\n",
              "    <tr>\n",
              "      <th>1</th>\n",
              "      <td>2011</td>\n",
              "      <td>1</td>\n",
              "      <td>1</td>\n",
              "      <td>1</td>\n",
              "      <td>1</td>\n",
              "      <td>0</td>\n",
              "      <td>0</td>\n",
              "      <td>1</td>\n",
              "      <td>9.02</td>\n",
              "      <td>13.635</td>\n",
              "      <td>80</td>\n",
              "      <td>0.0</td>\n",
              "    </tr>\n",
              "    <tr>\n",
              "      <th>2</th>\n",
              "      <td>2011</td>\n",
              "      <td>1</td>\n",
              "      <td>1</td>\n",
              "      <td>2</td>\n",
              "      <td>1</td>\n",
              "      <td>0</td>\n",
              "      <td>0</td>\n",
              "      <td>1</td>\n",
              "      <td>9.02</td>\n",
              "      <td>13.635</td>\n",
              "      <td>80</td>\n",
              "      <td>0.0</td>\n",
              "    </tr>\n",
              "    <tr>\n",
              "      <th>3</th>\n",
              "      <td>2011</td>\n",
              "      <td>1</td>\n",
              "      <td>1</td>\n",
              "      <td>3</td>\n",
              "      <td>1</td>\n",
              "      <td>0</td>\n",
              "      <td>0</td>\n",
              "      <td>1</td>\n",
              "      <td>9.84</td>\n",
              "      <td>14.395</td>\n",
              "      <td>75</td>\n",
              "      <td>0.0</td>\n",
              "    </tr>\n",
              "    <tr>\n",
              "      <th>4</th>\n",
              "      <td>2011</td>\n",
              "      <td>1</td>\n",
              "      <td>1</td>\n",
              "      <td>4</td>\n",
              "      <td>1</td>\n",
              "      <td>0</td>\n",
              "      <td>0</td>\n",
              "      <td>1</td>\n",
              "      <td>9.84</td>\n",
              "      <td>14.395</td>\n",
              "      <td>75</td>\n",
              "      <td>0.0</td>\n",
              "    </tr>\n",
              "  </tbody>\n",
              "</table>\n",
              "</div>\n",
              "      <button class=\"colab-df-convert\" onclick=\"convertToInteractive('df-d23e1445-e71c-48f9-9a20-a81ff3e4fbd3')\"\n",
              "              title=\"Convert this dataframe to an interactive table.\"\n",
              "              style=\"display:none;\">\n",
              "        \n",
              "  <svg xmlns=\"http://www.w3.org/2000/svg\" height=\"24px\"viewBox=\"0 0 24 24\"\n",
              "       width=\"24px\">\n",
              "    <path d=\"M0 0h24v24H0V0z\" fill=\"none\"/>\n",
              "    <path d=\"M18.56 5.44l.94 2.06.94-2.06 2.06-.94-2.06-.94-.94-2.06-.94 2.06-2.06.94zm-11 1L8.5 8.5l.94-2.06 2.06-.94-2.06-.94L8.5 2.5l-.94 2.06-2.06.94zm10 10l.94 2.06.94-2.06 2.06-.94-2.06-.94-.94-2.06-.94 2.06-2.06.94z\"/><path d=\"M17.41 7.96l-1.37-1.37c-.4-.4-.92-.59-1.43-.59-.52 0-1.04.2-1.43.59L10.3 9.45l-7.72 7.72c-.78.78-.78 2.05 0 2.83L4 21.41c.39.39.9.59 1.41.59.51 0 1.02-.2 1.41-.59l7.78-7.78 2.81-2.81c.8-.78.8-2.07 0-2.86zM5.41 20L4 18.59l7.72-7.72 1.47 1.35L5.41 20z\"/>\n",
              "  </svg>\n",
              "      </button>\n",
              "      \n",
              "  <style>\n",
              "    .colab-df-container {\n",
              "      display:flex;\n",
              "      flex-wrap:wrap;\n",
              "      gap: 12px;\n",
              "    }\n",
              "\n",
              "    .colab-df-convert {\n",
              "      background-color: #E8F0FE;\n",
              "      border: none;\n",
              "      border-radius: 50%;\n",
              "      cursor: pointer;\n",
              "      display: none;\n",
              "      fill: #1967D2;\n",
              "      height: 32px;\n",
              "      padding: 0 0 0 0;\n",
              "      width: 32px;\n",
              "    }\n",
              "\n",
              "    .colab-df-convert:hover {\n",
              "      background-color: #E2EBFA;\n",
              "      box-shadow: 0px 1px 2px rgba(60, 64, 67, 0.3), 0px 1px 3px 1px rgba(60, 64, 67, 0.15);\n",
              "      fill: #174EA6;\n",
              "    }\n",
              "\n",
              "    [theme=dark] .colab-df-convert {\n",
              "      background-color: #3B4455;\n",
              "      fill: #D2E3FC;\n",
              "    }\n",
              "\n",
              "    [theme=dark] .colab-df-convert:hover {\n",
              "      background-color: #434B5C;\n",
              "      box-shadow: 0px 1px 3px 1px rgba(0, 0, 0, 0.15);\n",
              "      filter: drop-shadow(0px 1px 2px rgba(0, 0, 0, 0.3));\n",
              "      fill: #FFFFFF;\n",
              "    }\n",
              "  </style>\n",
              "\n",
              "      <script>\n",
              "        const buttonEl =\n",
              "          document.querySelector('#df-d23e1445-e71c-48f9-9a20-a81ff3e4fbd3 button.colab-df-convert');\n",
              "        buttonEl.style.display =\n",
              "          google.colab.kernel.accessAllowed ? 'block' : 'none';\n",
              "\n",
              "        async function convertToInteractive(key) {\n",
              "          const element = document.querySelector('#df-d23e1445-e71c-48f9-9a20-a81ff3e4fbd3');\n",
              "          const dataTable =\n",
              "            await google.colab.kernel.invokeFunction('convertToInteractive',\n",
              "                                                     [key], {});\n",
              "          if (!dataTable) return;\n",
              "\n",
              "          const docLinkHtml = 'Like what you see? Visit the ' +\n",
              "            '<a target=\"_blank\" href=https://colab.research.google.com/notebooks/data_table.ipynb>data table notebook</a>'\n",
              "            + ' to learn more about interactive tables.';\n",
              "          element.innerHTML = '';\n",
              "          dataTable['output_type'] = 'display_data';\n",
              "          await google.colab.output.renderOutput(dataTable, element);\n",
              "          const docLink = document.createElement('div');\n",
              "          docLink.innerHTML = docLinkHtml;\n",
              "          element.appendChild(docLink);\n",
              "        }\n",
              "      </script>\n",
              "    </div>\n",
              "  </div>\n",
              "  "
            ]
          },
          "metadata": {},
          "execution_count": 171
        }
      ]
    },
    {
      "cell_type": "code",
      "source": [
        "X_train, X_test, y_train, y_test = train_test_split(X, y, random_state=12, test_size=0.2)"
      ],
      "metadata": {
        "id": "mpvH5cm7Jr4G"
      },
      "execution_count": null,
      "outputs": []
    },
    {
      "cell_type": "markdown",
      "source": [
        "## LinearRegression 모델 학습"
      ],
      "metadata": {
        "id": "llNITqX7JDPl"
      }
    },
    {
      "cell_type": "code",
      "source": [
        "model = LinearRegression()\n",
        "\n",
        "model.fit(X_train, y_train)\n"
      ],
      "metadata": {
        "colab": {
          "base_uri": "https://localhost:8080/"
        },
        "id": "PKnKQ9cSI9ml",
        "outputId": "2a6ad948-2917-47ac-e33a-b2f9d7401040"
      },
      "execution_count": null,
      "outputs": [
        {
          "output_type": "execute_result",
          "data": {
            "text/plain": [
              "LinearRegression()"
            ]
          },
          "metadata": {},
          "execution_count": 173
        }
      ]
    },
    {
      "cell_type": "markdown",
      "source": [
        "## 학습된 모델로 X_test에 대한 예측값 출력 및 손실함수값 계산"
      ],
      "metadata": {
        "id": "LM1CeXavOJYZ"
      }
    },
    {
      "cell_type": "code",
      "source": [
        "\n",
        "predictions = model.predict(X_test)\n",
        "predictions"
      ],
      "metadata": {
        "colab": {
          "base_uri": "https://localhost:8080/"
        },
        "id": "yTX7QalcOKaS",
        "outputId": "d23700b9-047a-46ac-a6fe-f8aa121a7034"
      },
      "execution_count": null,
      "outputs": [
        {
          "output_type": "execute_result",
          "data": {
            "text/plain": [
              "array([258.89315324, 297.49769696, 295.99833254, ..., 208.10086204,\n",
              "       359.34182526, 199.32652423])"
            ]
          },
          "metadata": {},
          "execution_count": 174
        }
      ]
    },
    {
      "cell_type": "code",
      "source": [
        "from sklearn.metrics import mean_squared_error\n",
        "\n",
        "mse = mean_squared_error(y_test, predictions)\n",
        "rmse = mean_squared_error(y_test, predictions, squared=False)\n",
        "\n",
        "print('mse = ',mse)\n",
        "print('rmse = ',rmse)"
      ],
      "metadata": {
        "colab": {
          "base_uri": "https://localhost:8080/"
        },
        "id": "7i1iwBMII9ka",
        "outputId": "54309bb7-b539-42b8-bcd4-1f40fae74a2e"
      },
      "execution_count": null,
      "outputs": [
        {
          "output_type": "stream",
          "name": "stdout",
          "text": [
            "mse =  20574.55741942698\n",
            "rmse =  143.43834013061843\n"
          ]
        }
      ]
    },
    {
      "cell_type": "markdown",
      "source": [
        "## x축은 temp 또는 humidity로, y축은 count로 예측 결과 시각화하기"
      ],
      "metadata": {
        "id": "_I7yVRmHSgp3"
      }
    },
    {
      "cell_type": "code",
      "source": [
        "plt.scatter(list(X_test['temp']), y_test, label=\"True\")\n",
        "plt.scatter(list(X_test['temp']), predictions, label=\"Pred\")\n",
        "plt.legend()\n",
        "plt.show()"
      ],
      "metadata": {
        "colab": {
          "base_uri": "https://localhost:8080/",
          "height": 265
        },
        "id": "dXNvrcG2I9h2",
        "outputId": "67245dd7-6693-41b4-8273-aa9312bfda14"
      },
      "execution_count": null,
      "outputs": [
        {
          "output_type": "display_data",
          "data": {
            "text/plain": [
              "<Figure size 432x288 with 1 Axes>"
            ],
            "image/png": "[encoded data removed]"
          },
          "metadata": {
            "needs_background": "light"
          }
        }
      ]
    },
    {
      "cell_type": "code",
      "source": [
        "plt.scatter(list(X_test['humidity']), y_test, label=\"True\")\n",
        "plt.scatter(list(X_test['humidity']), predictions, label=\"Pred\")\n",
        "plt.legend()\n",
        "plt.show()"
      ],
      "metadata": {
        "colab": {
          "base_uri": "https://localhost:8080/",
          "height": 265
        },
        "id": "wca6W9DyI9fQ",
        "outputId": "d7bb36e3-b50b-4b12-8f17-ad6efa3db0d8"
      },
      "execution_count": null,
      "outputs": [
        {
          "output_type": "display_data",
          "data": {
            "text/plain": [
              "<Figure size 432x288 with 1 Axes>"
            ],
            "image/png": "[encoded data removed]"
          },
          "metadata": {
            "needs_background": "light"
          }
        }
      ]
    },
    {
      "cell_type": "markdown",
      "source": [
        "## 프로젝트 결과 및 토의\n",
        "\n",
        "이 프로젝트에서 나는 다양한 변수를 가진 데이터를 통해 자전거를 타는 사람들이 몇 명인지 예측하는 모델을 만들었다. 이 과정에서 중요한 것은 두 가지였는데 첫째는 datetime 컬럼을 분해하여 6개로 나눈 것이고, 둘째는 데이터의 여러 컬럼 중에서 feature data로 사용할 컬럼을 미리 분리하는 과정이다.\n",
        "\n",
        "datetime의 분리는 선형회귀를 하기 위해서 필요한 일이었다. 만약 이것을 적용하지 않고 그냥 숫자로 사용했다면 datetime의 값이 너무 커지게 되므로 이에 대한 가중치가 아주 작아져야할 것이다. 그런데 우리가 날짜를 세는 방식은 10진수가 아니므로 년도, 월, 일, 시간 등등에서 모두가 적절한 가중치를 받기 어려워진다. 따라서 각각의 값에 적합한 가중치가 들어가기 위해서는 따로 분리가 필요했다.\n",
        "\n",
        "이전까지는 대체로 모든 컬럼이 feature로써 사용되었는데 이번에는 불필요한 컬럼이 존재했다. 물론 그렇다하더라도 학습을 통해 가중치를 바꿔가며 어떤 컬럼이 불필요한지 알아내겠지만 target data인 count컬럼 뿐만 아니라 casual과 registered컬럼도 빼야했다. 사실상 그 둘은 count를 분류한 것이기 때문이다. 만약 데이터의 컬럼들을 파악하지 못 하고 그냥 진행했다면 예측모델이 아니라 단순히 저 두 컬럼을 합하는 모델이 되었을 것이다."
      ],
      "metadata": {
        "id": "t_3PzNwRYxI_"
      }
    },
    {
      "cell_type": "markdown",
      "source": [
        "# Reference\n",
        "\n",
        "https://box-world.tistory.com/70  \n",
        "https://eehoeskrap.tistory.com/445  \n",
        "https://blog.naver.com/nsun527/222744958873  \n",
        "\n"
      ],
      "metadata": {
        "id": "rBPRAzDQIF8M"
      }
    },
    {
      "cell_type": "markdown",
      "source": [
        "# 회고\n",
        "\n",
        "오늘은 데이터를 가지고 선형회귀를 통해 예측모델을 만들어보았으며 그 결과를 시각화해보았다. 이 과정을 통해 알 수 있었던 것들이 몇 가지 있다. 첫 번째로 데이터를 파악하는 일이 매우 중요하다는 것이다. 데이터에는 다양한 컬럼들이 있을 수 있으며 그 중에는 그대로 쓰기에는 부적절한 컬럼도 있고, 어떤 컬럼은 불필요할 수도 있으며, 어떤 컬럼은 좋은 모델을 얻기 위해서는 반드시 제외해야만 하는 것들도 있다. 만약 데이터를 확인하지 않고 있는 그대로 사용하게 된다면 우리가 원하는 것과는 전혀 다른 결과를 가져올 수도 있다.\n",
        "\n",
        "둘째로 하이퍼 파라미터를 바꾸는 일이다. 기계학습에서 가중치 파라미터는 학습을 통해 알아서 좋은 값을 찾아가지만 그럼에도 불구하고 더 나은 모델을 만들기 위해 사람이 직접 값을 기입해야하는 경우가 있다. 이번에 사용한 학습률 같은 것들이 그러하다. 이 때 어떤 데이터를 쓰느냐, 어떤 결과를 원하는가 등에 따라서 적절한 하이퍼 파라미터의 값이 다 다르다. 그러므로 여러 시도를 통해 좋은 값을 찾아야만 한다. 나는 처음에 학습률을 작게 두고 학습횟수를 늘리면 될 것이라고 생각했으나 여기에는 더 많은 시간이 소요된다는 것과 오버피팅의 문제가 존재했다. 데이터가 크고 복잡해질수록 저 두 개의 문제에서 벗어나는 것이 아주 중요해지므로 단순히 시행횟수를 늘리는 것만으로는 부족하다.\n",
        "\n",
        "만들어진 모델을 평가하기 위해 평가지표들이 존재하며 이번에는 그 중에서 MSE, RMSE 등을 사용했다. 그러나 데이터값에 따라 이 수치들은 상대적이기 때문에 직관적으로 모델을 평가하는데에는 어려움이 있다. 그러나 예측결과를 시각화하여 그래프로 나타낸다면 누구나 해당 모델이 얼마나 예측을 잘 하고 있는지 혹은 못 하고 있는지를 바로 파악할 수 있을 것이다. 모델의 평가를 잘 하는 것은 좋은 모델을 만드는 것만큼이나 중요하므로 시각화로 결과를 표현하는 방법은 꼭 익혀야한다."
      ],
      "metadata": {
        "id": "LLE7jK31Y3J-"
      }
    }
  ]
}